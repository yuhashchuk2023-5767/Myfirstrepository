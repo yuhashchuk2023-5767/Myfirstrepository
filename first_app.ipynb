{
 "cells": [
  {
   "cell_type": "code",
   "execution_count": 1,
   "id": "5c11ba8b",
   "metadata": {},
   "outputs": [
    {
     "name": "stdout",
     "output_type": "stream",
     "text": [
      "Yuliia почала програмувати 2025-10-07 20:16:20.939184. Lviv — чудове місто!\n"
     ]
    }
   ],
   "source": [
    "from datetime import datetime\n",
    "\n",
    "name = \"Yuliia\"\n",
    "location = \"Lviv\"\n",
    "\n",
    "print(f\"{name} почала програмувати {datetime.now()}. {location} — чудове місто!\")\n"
   ]
  },
  {
   "cell_type": "markdown",
   "id": "1c49927d",
   "metadata": {},
   "source": [
    "##  Моя перша програма на Python\n",
    "У цій програмі я використала модуль `datetime`, щоб показати поточну дату і час.  \n",
    "Змінні **name** і **location** я замінила на власні значення.\n"
   ]
  },
  {
   "cell_type": "markdown",
   "id": "782bd8d3",
   "metadata": {},
   "source": [
    "##  Програма від ChatGPT\n",
    "**Запит:** Яку першу програму написав би ШІ?\n",
    "\n",
    "**Відповідь ChatGPT:**\n",
    "```python\n",
    "print(\"Hello, world! I'm ChatGPT — your coding assistant.\")\n"
   ]
  }
 ],
 "metadata": {
  "kernelspec": {
   "display_name": "Python 3",
   "language": "python",
   "name": "python3"
  },
  "language_info": {
   "codemirror_mode": {
    "name": "ipython",
    "version": 3
   },
   "file_extension": ".py",
   "mimetype": "text/x-python",
   "name": "python",
   "nbconvert_exporter": "python",
   "pygments_lexer": "ipython3",
   "version": "3.13.7"
  }
 },
 "nbformat": 4,
 "nbformat_minor": 5
}
