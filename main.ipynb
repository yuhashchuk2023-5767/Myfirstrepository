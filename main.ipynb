{
 "cells": [
  {
   "cell_type": "markdown",
   "id": "27d4cc52",
   "metadata": {},
   "source": [
    "# Лабораторна робота : Основи програмування на Python\n",
    "# Виконала: Гащук Юлія\n"
   ]
  },
  {
   "cell_type": "markdown",
   "id": "5c6558ff",
   "metadata": {},
   "source": [
    "Крок 2. Основні типи даних"
   ]
  },
  {
   "cell_type": "code",
   "execution_count": 1,
   "id": "220035df",
   "metadata": {},
   "outputs": [
    {
     "name": "stdout",
     "output_type": "stream",
     "text": [
      "Типи змінних:\n",
      "<class 'str'> <class 'int'> <class 'float'> <class 'list'> <class 'dict'> <class 'tuple'> <class 'set'>\n"
     ]
    }
   ],
   "source": [
    "a = \"змінна з текстом\"\n",
    "b = 1                # числова змінна (int)\n",
    "b1 = 1.1             # число з плаваючою крапкою (float)\n",
    "c = [\"a\", 1, 1.25, \"Слово\", a]   # список (list)\n",
    "d = {\"a\": \"Слово\", \"b\": 1, a: b} # словник (dict)\n",
    "e = (\"a\", a)         # кортеж (tuple)\n",
    "f = {\"ss\", a}        # множина (set)\n",
    "\n",
    "print(\"Типи змінних:\")\n",
    "print(type(a), type(b), type(b1), type(c), type(d), type(e), type(f))\n"
   ]
  },
  {
   "cell_type": "markdown",
   "id": "f52a868a",
   "metadata": {},
   "source": [
    "Крок 3. Вбудовані константи та зарезервовані слова"
   ]
  },
  {
   "cell_type": "code",
   "execution_count": 2,
   "id": "1ed92816",
   "metadata": {},
   "outputs": [
    {
     "name": "stdout",
     "output_type": "stream",
     "text": [
      "Перша константа: True\n",
      "Друга константа (приклад форматування): None\n",
      "\n",
      "Here is a list of the Python keywords.  Enter any keyword to get more help.\n",
      "\n",
      "False               class               from                or\n",
      "None                continue            global              pass\n",
      "True                def                 if                  raise\n",
      "and                 del                 import              return\n",
      "as                  elif                in                  try\n",
      "assert              else                is                  while\n",
      "async               except              lambda              with\n",
      "await               finally             nonlocal            yield\n",
      "break               for                 not                 \n",
      "\n"
     ]
    }
   ],
   "source": [
    "print(\"Перша константа:\", True)\n",
    "print(f\"Друга константа (приклад форматування): {None}\")\n",
    "\n",
    "import sys\n",
    "help(\"keywords\")  # Виводить усі зарезервовані слова Python\n"
   ]
  },
  {
   "cell_type": "markdown",
   "id": "dbcc9e46",
   "metadata": {},
   "source": [
    "Крок 4. Вбудовані функції"
   ]
  },
  {
   "cell_type": "code",
   "execution_count": 3,
   "id": "c9a6b5ce",
   "metadata": {},
   "outputs": [
    {
     "name": "stdout",
     "output_type": "stream",
     "text": [
      "Модуль числа -12.5 дорівнює: 12.5\n",
      "Максимальне з чисел 3, 7, 5: 7\n",
      "Довжина списку c: 5\n"
     ]
    }
   ],
   "source": [
    "print(\"Модуль числа -12.5 дорівнює:\", abs(-12.5))\n",
    "print(\"Максимальне з чисел 3, 7, 5:\", max(3, 7, 5))\n",
    "print(\"Довжина списку c:\", len(c))\n"
   ]
  },
  {
   "cell_type": "markdown",
   "id": "af55b1e5",
   "metadata": {},
   "source": [
    "Крок 5. Цикли (for, while)"
   ]
  },
  {
   "cell_type": "code",
   "execution_count": 4,
   "id": "75307e6e",
   "metadata": {},
   "outputs": [
    {
     "name": "stdout",
     "output_type": "stream",
     "text": [
      "На позиції 0 знаходиться літера a\n",
      "На позиції 1 знаходиться літера b\n",
      "На позиції 2 знаходиться літера c\n",
      "Цикл for завершено.\n",
      "Поточне значення n: 0\n",
      "Поточне значення n: 1\n",
      "Поточне значення n: 2\n",
      "Цикл while завершено.\n"
     ]
    }
   ],
   "source": [
    "letters = [\"a\", \"b\", \"c\"]\n",
    "for i in range(len(letters)):\n",
    "    print(f\"На позиції {i} знаходиться літера {letters[i]}\")\n",
    "else:\n",
    "    print(\"Цикл for завершено.\")\n",
    "\n",
    "# Приклад циклу while\n",
    "n = 0\n",
    "while n < 3:\n",
    "    print(\"Поточне значення n:\", n)\n",
    "    n += 1\n",
    "print(\"Цикл while завершено.\")\n"
   ]
  },
  {
   "cell_type": "markdown",
   "id": "eef966b2",
   "metadata": {},
   "source": [
    "Крок 6. Розгалуження (if–else–elif)"
   ]
  },
  {
   "cell_type": "code",
   "execution_count": 5,
   "id": "1e761dbd",
   "metadata": {},
   "outputs": [
    {
     "name": "stdout",
     "output_type": "stream",
     "text": [
      "Число 1 менше за 5\n"
     ]
    }
   ],
   "source": [
    "from random import randint\n",
    "A = randint(0, 10)\n",
    "if A > 5:\n",
    "    print(f\"Число {A} більше за 5\")\n",
    "elif A == 5:\n",
    "    print(\"Число дорівнює 5\")\n",
    "else:\n",
    "    print(f\"Число {A} менше за 5\")\n"
   ]
  },
  {
   "cell_type": "markdown",
   "id": "9aea0232",
   "metadata": {},
   "source": [
    "Крок 7. Конструкція try–except–finally"
   ]
  },
  {
   "cell_type": "code",
   "execution_count": 6,
   "id": "34b96911",
   "metadata": {},
   "outputs": [
    {
     "name": "stdout",
     "output_type": "stream",
     "text": [
      "Виникла помилка: division by zero\n",
      "Блок finally виконується завжди.\n"
     ]
    }
   ],
   "source": [
    "A = 0\n",
    "try:\n",
    "    print(\"Результат ділення:\", 10 / A)\n",
    "except Exception as e:\n",
    "    print(\"Виникла помилка:\", e)\n",
    "finally:\n",
    "    print(\"Блок finally виконується завжди.\")\n"
   ]
  },
  {
   "cell_type": "markdown",
   "id": "1c458b1e",
   "metadata": {},
   "source": [
    "Крок 8. Контекст-менеджер with"
   ]
  },
  {
   "cell_type": "code",
   "execution_count": 7,
   "id": "82403c15",
   "metadata": {},
   "outputs": [
    {
     "name": "stdout",
     "output_type": "stream",
     "text": [
      "1) Це приклад контекст-менеджера з Python.\n"
     ]
    }
   ],
   "source": [
    "# Створимо файл для демонстрації\n",
    "with open(\"example.txt\", \"w\") as file:\n",
    "    file.write(\"Це приклад контекст-менеджера з Python.\\n\")\n",
    "\n",
    "# Зчитаємо файл\n",
    "with open(\"example.txt\", \"r\") as f:\n",
    "    for i, line in enumerate(f):\n",
    "        print(f\"{i+1}) {line.strip()}\")\n"
   ]
  },
  {
   "cell_type": "markdown",
   "id": "dd8dfd8c",
   "metadata": {},
   "source": [
    "Крок 9. Лямбда-функції"
   ]
  },
  {
   "cell_type": "code",
   "execution_count": 8,
   "id": "db4df2a8",
   "metadata": {},
   "outputs": [
    {
     "name": "stdout",
     "output_type": "stream",
     "text": [
      "Це звичайна функція: ('x', 5)\n",
      "Це лямбда: Мене звати Юлія, мені 17 років\n"
     ]
    }
   ],
   "source": [
    "def a_b_func(a, b):\n",
    "    return a, b\n",
    "\n",
    "this_is_lambda = lambda first, age: f\"Мене звати {first}, мені {age} років\"\n",
    "print(\"Це звичайна функція:\", a_b_func(\"x\", 5))\n",
    "print(\"Це лямбда:\", this_is_lambda(\"Юлія\", 17))\n"
   ]
  },
  {
   "cell_type": "markdown",
   "id": "996ea3f6",
   "metadata": {},
   "source": [
    "### Крок 10. Використання AI для пояснень і прикладів\n"
   ]
  },
  {
   "cell_type": "markdown",
   "id": "4f1a4240",
   "metadata": {},
   "source": [
    "**Промпт, відправлений ChatGPT:**\n",
    "Поясни коротко про основи Python для початківців у Jupyter Notebook та наведи 3 приклади коду: вивід, робота зі списком, list comprehension.\n"
   ]
  },
  {
   "cell_type": "code",
   "execution_count": 9,
   "id": "dd2b9834",
   "metadata": {},
   "outputs": [
    {
     "name": "stdout",
     "output_type": "stream",
     "text": [
      "Привіт, Python!\n",
      "[1, 2, 3, 4, 5, 6]\n",
      "[1, 4, 9, 16, 25]\n"
     ]
    }
   ],
   "source": [
    "#  приклад від AI\n",
    "#1. Вивід тексту\n",
    "print(\"Привіт, Python!\")\n",
    "\n",
    "# 2. Робота зі списком\n",
    "numbers = [1, 2, 3, 4, 5]\n",
    "numbers.append(6)\n",
    "print(numbers)\n",
    "\n",
    "# 3. List comprehension\n",
    "squares = [x**2 for x in range(1, 6)]\n",
    "print(squares)"
   ]
  },
  {
   "cell_type": "markdown",
   "id": "4b2026f1",
   "metadata": {},
   "source": [
    "Нижче — виконані приклади, згенеровані ChatGPT; результат виконання — у попередній комірці.\n"
   ]
  }
 ],
 "metadata": {
  "kernelspec": {
   "display_name": "Python 3",
   "language": "python",
   "name": "python3"
  },
  "language_info": {
   "codemirror_mode": {
    "name": "ipython",
    "version": 3
   },
   "file_extension": ".py",
   "mimetype": "text/x-python",
   "name": "python",
   "nbconvert_exporter": "python",
   "pygments_lexer": "ipython3",
   "version": "3.13.7"
  }
 },
 "nbformat": 4,
 "nbformat_minor": 5
}
